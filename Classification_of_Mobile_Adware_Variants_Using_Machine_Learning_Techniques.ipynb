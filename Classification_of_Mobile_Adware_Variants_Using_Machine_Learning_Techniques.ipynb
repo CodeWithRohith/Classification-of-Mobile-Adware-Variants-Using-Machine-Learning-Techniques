{
  "nbformat": 4,
  "nbformat_minor": 0,
  "metadata": {
    "colab": {
      "provenance": []
    },
    "kernelspec": {
      "name": "python3",
      "display_name": "Python 3"
    },
    "language_info": {
      "name": "python"
    }
  },
  "cells": [
    {
      "cell_type": "markdown",
      "source": [
        "**Dataset Loading and Shuffling**\n",
        "\n",
        "The dataset is loaded from a CSV file (*adware_merged.csv*) into a Pandas DataFrame. To ensure randomness and prevent bias in the analysis, the data is shuffled using a fixed random seed of 42. The *adwaredf.columns.str.strip()* function is used to strip any leading or trailing whitespace from column names for consistency."
      ],
      "metadata": {
        "id": "wH5G1zic_rMR"
      }
    },
    {
      "cell_type": "code",
      "source": [
        "import pandas as pd\n",
        "from sklearn.feature_selection import mutual_info_classif\n",
        "from sklearn.preprocessing import LabelEncoder, StandardScaler\n",
        "from sklearn.model_selection import train_test_split\n",
        "from xgboost import XGBClassifier\n",
        "from sklearn.metrics import mutual_info_score\n",
        "from imblearn.combine import SMOTETomek\n",
        "from collections import Counter\n",
        "import joblib\n",
        "import numpy as np\n",
        "from sklearn.metrics import confusion_matrix, classification_report, accuracy_score, precision_score, recall_score"
      ],
      "metadata": {
        "id": "wVH1oXTtmu9u"
      },
      "execution_count": null,
      "outputs": []
    },
    {
      "cell_type": "code",
      "source": [
        "# Load and shuffle the dataset\n",
        "url = \"adware_dataset.csv\"\n",
        "adwaredf = pd.read_csv(url)\n",
        "adwaredf = adwaredf.sample(frac=1, random_state=42)\n",
        "adwaredf.columns = adwaredf.columns.str.strip()\n",
        "adwaredf.shape[1]\n",
        "\n"
      ],
      "metadata": {
        "colab": {
          "base_uri": "https://localhost:8080/"
        },
        "id": "1MFYvF4k8qgg",
        "outputId": "e958a3e2-372a-478a-f120-a245cceecee2"
      },
      "execution_count": null,
      "outputs": [
        {
          "output_type": "execute_result",
          "data": {
            "text/plain": [
              "85"
            ]
          },
          "metadata": {},
          "execution_count": 64
        }
      ]
    },
    {
      "cell_type": "markdown",
      "source": [
        "**Handling Missing and Zero Values**\n",
        "\n",
        "Initially, the script identifies columns with numeric data types. It calculates the ratio of non-zero values for each numeric column, considering columns with a ratio above 50% as viable for imputation. For these columns, zero values are replaced with the mean of non-zero values, ensuring no data distortions from zero inflation. Columns with a non-zero ratio of 50% or lower are deemed irrelevant and removed from the dataset to improve data quality and focus.\n",
        "\n",
        "Additionally, specific columns, such as *Source IP* and *Destination IP*, which are irrelevant to the model’s goals, are dropped. The remaining columns are then analyzed for rows with high-zero counts, which are also excluded to improve data representativeness.\n",
        "\n"
      ],
      "metadata": {
        "id": "2mmHExK0AGup"
      }
    },
    {
      "cell_type": "code",
      "source": [
        "import pandas as pd\n",
        "\n",
        "# Ensure all columns are numeric\n",
        "numeric_columns = adwaredf.select_dtypes(include=['number']).columns\n",
        "\n",
        "# Calculate the non-zero ratio for numeric columns only\n",
        "non_zero_ratio = (adwaredf[numeric_columns] != 0).mean()\n",
        "columns_to_impute = non_zero_ratio[non_zero_ratio > 0.5].index\n",
        "\n",
        "# Impute zeros with the mean of non-zero values for numeric columns\n",
        "for column in columns_to_impute:\n",
        "    # Check if column is numeric and calculate the mean of non-zero values\n",
        "    if pd.api.types.is_numeric_dtype(adwaredf[column]):\n",
        "        mean_value = adwaredf.loc[adwaredf[column] != 0, column].mean()\n",
        "        # Replace zeros with the mean value\n",
        "        adwaredf[column] = adwaredf[column].replace(0, mean_value)\n",
        "\n",
        "# Drop columns with non-zero ratio <= 50% (optional)\n",
        "columns_with_low_non_zero = non_zero_ratio[non_zero_ratio <= 0.5].index\n",
        "adwaredf = adwaredf.drop(columns=columns_with_low_non_zero)\n",
        "\n",
        "# Save the updated DataFrame\n",
        "print(\"\\nDataFrame after imputing zeros and dropping unsuitable columns:\")\n",
        "print(adwaredf)\n",
        "adwaredf.to_csv('filtered.csv', index=False)\n"
      ],
      "metadata": {
        "colab": {
          "base_uri": "https://localhost:8080/"
        },
        "id": "XnAWso-GVg32",
        "outputId": "90ee1149-5066-48e0-cbd8-3a1d821b0b7b"
      },
      "execution_count": null,
      "outputs": [
        {
          "output_type": "stream",
          "name": "stdout",
          "text": [
            "\n",
            "DataFrame after imputing zeros and dropping unsuitable columns:\n",
            "                                       Flow ID            Timestamp  \\\n",
            "12461        10.42.0.151-10.42.0.1-36160-53-17  15/06/2017 04:27:30   \n",
            "4744       172.217.2.99-10.42.0.151-80-52438-6  13/06/2017 05:40:49   \n",
            "18481        10.42.0.211-10.42.0.1-60127-53-17  14/06/2017 12:52:43   \n",
            "24304    172.217.10.99-10.42.0.151-443-60822-6  14/06/2017 08:25:33   \n",
            "7191      10.42.0.151-125.39.133.40-42680-80-6  13/06/2017 12:23:25   \n",
            "...                                        ...                  ...   \n",
            "21575   10.42.0.151-103.235.46.211-46820-443-6  14/06/2017 01:59:06   \n",
            "5390      10.42.0.151-52.84.89.242-58394-443-6  13/06/2017 05:32:39   \n",
            "860    180.149.139.248-10.42.0.211-443-55410-6  14/06/2017 04:56:59   \n",
            "15795    203.205.158.66-10.42.0.211-80-43283-6  14/06/2017 12:52:44   \n",
            "23654        10.42.0.151-10.42.0.1-54765-53-17  14/06/2017 02:06:29   \n",
            "\n",
            "       Flow Duration  Total Fwd Packets  Flow Packets/s  Flow IAT Mean  \\\n",
            "12461            111                  1    18018.018020        111.000   \n",
            "4744          114330                  2       17.493221     114330.000   \n",
            "18481          31746                  1       63.000063      31746.000   \n",
            "24304          16530                  2      120.992136      16530.000   \n",
            "7191        11262510                  3        0.355161    3754170.000   \n",
            "...              ...                ...             ...            ...   \n",
            "21575       42104725                 17        0.783760    1315772.656   \n",
            "5390            8411                  1      237.783854       8411.000   \n",
            "860         26251982                  8        0.647570    1640748.875   \n",
            "15795       30757780                  6        0.390145    2796161.818   \n",
            "23654          31467                  1       63.558649      31467.000   \n",
            "\n",
            "       Flow IAT Max  Fwd Packets/s  Subflow Fwd Packets            Label  \n",
            "12461         111.0    9009.009009                    1  ADWARE_GOOLIGAN  \n",
            "4744       114330.0      17.493221                    2     ADWARE_EWIND  \n",
            "18481       31746.0      31.500031                    1   ADWARE_KOODOUS  \n",
            "24304       16530.0     120.992136                    2   ADWARE_SHUANET  \n",
            "7191     10800000.0       0.266370                    3     ADWARE_FEIWO  \n",
            "...             ...            ...                  ...              ...  \n",
            "21575    40900000.0       0.403755                   17  ADWARE_SELFMITE  \n",
            "5390         8411.0     118.891927                    1     ADWARE_EWIND  \n",
            "860      24800000.0       0.304739                    8    ADWARE_DOWGIN  \n",
            "15795    29800000.0       0.195073                    6   ADWARE_KOODOUS  \n",
            "23654       31467.0      31.779324                    1  ADWARE_SELFMITE  \n",
            "\n",
            "[29032 rows x 10 columns]\n"
          ]
        }
      ]
    },
    {
      "cell_type": "markdown",
      "source": [
        "**Dropping Zero and Irrelevant Columns**"
      ],
      "metadata": {
        "id": "bxeNHLVTAaCD"
      }
    },
    {
      "cell_type": "code",
      "source": [
        "#columns with many zeros\n",
        "columns_with_zero = adwaredf.columns[(adwaredf == 0).any()]\n",
        "irrelevant_columns = ['Source IP', 'Destination IP']\n",
        "# Drop these columns\n",
        "adwaredf = adwaredf.drop(columns=columns_with_zero)\n",
        "adwaredf = adwaredf.drop(columns=irrelevant_columns)\n",
        "print(\"\\nDataFrame after dropping columns with at least one zero:\")\n",
        "print(adwaredf)\n",
        "# adwaredf.to_csv('filtered.csv', index=False)"
      ],
      "metadata": {
        "colab": {
          "base_uri": "https://localhost:8080/"
        },
        "id": "ai1uHlXZIfoz",
        "outputId": "73c7bd4a-9b5a-44f3-b41c-b79cb94fac21"
      },
      "execution_count": null,
      "outputs": [
        {
          "output_type": "stream",
          "name": "stdout",
          "text": [
            "\n",
            "DataFrame after dropping columns with at least one zero:\n",
            "                                       Flow ID            Timestamp  \\\n",
            "12461        10.42.0.151-10.42.0.1-36160-53-17  15/06/2017 04:27:30   \n",
            "4744       172.217.2.99-10.42.0.151-80-52438-6  13/06/2017 05:40:49   \n",
            "18481        10.42.0.211-10.42.0.1-60127-53-17  14/06/2017 12:52:43   \n",
            "24304    172.217.10.99-10.42.0.151-443-60822-6  14/06/2017 08:25:33   \n",
            "7191      10.42.0.151-125.39.133.40-42680-80-6  13/06/2017 12:23:25   \n",
            "...                                        ...                  ...   \n",
            "21575   10.42.0.151-103.235.46.211-46820-443-6  14/06/2017 01:59:06   \n",
            "5390      10.42.0.151-52.84.89.242-58394-443-6  13/06/2017 05:32:39   \n",
            "860    180.149.139.248-10.42.0.211-443-55410-6  14/06/2017 04:56:59   \n",
            "15795    203.205.158.66-10.42.0.211-80-43283-6  14/06/2017 12:52:44   \n",
            "23654        10.42.0.151-10.42.0.1-54765-53-17  14/06/2017 02:06:29   \n",
            "\n",
            "       Flow Duration  Total Fwd Packets  Flow Packets/s  Flow IAT Mean  \\\n",
            "12461            111                  1    18018.018020        111.000   \n",
            "4744          114330                  2       17.493221     114330.000   \n",
            "18481          31746                  1       63.000063      31746.000   \n",
            "24304          16530                  2      120.992136      16530.000   \n",
            "7191        11262510                  3        0.355161    3754170.000   \n",
            "...              ...                ...             ...            ...   \n",
            "21575       42104725                 17        0.783760    1315772.656   \n",
            "5390            8411                  1      237.783854       8411.000   \n",
            "860         26251982                  8        0.647570    1640748.875   \n",
            "15795       30757780                  6        0.390145    2796161.818   \n",
            "23654          31467                  1       63.558649      31467.000   \n",
            "\n",
            "       Flow IAT Max  Fwd Packets/s  Subflow Fwd Packets            Label  \n",
            "12461         111.0    9009.009009                    1  ADWARE_GOOLIGAN  \n",
            "4744       114330.0      17.493221                    2     ADWARE_EWIND  \n",
            "18481       31746.0      31.500031                    1   ADWARE_KOODOUS  \n",
            "24304       16530.0     120.992136                    2   ADWARE_SHUANET  \n",
            "7191     10800000.0       0.266370                    3     ADWARE_FEIWO  \n",
            "...             ...            ...                  ...              ...  \n",
            "21575    40900000.0       0.403755                   17  ADWARE_SELFMITE  \n",
            "5390         8411.0     118.891927                    1     ADWARE_EWIND  \n",
            "860      24800000.0       0.304739                    8    ADWARE_DOWGIN  \n",
            "15795    29800000.0       0.195073                    6   ADWARE_KOODOUS  \n",
            "23654       31467.0      31.779324                    1  ADWARE_SELFMITE  \n",
            "\n",
            "[29032 rows x 10 columns]\n"
          ]
        }
      ]
    },
    {
      "cell_type": "markdown",
      "source": [
        "**Data Visualization**"
      ],
      "metadata": {
        "id": "URSvgimIAiXN"
      }
    },
    {
      "cell_type": "code",
      "source": [
        "import matplotlib.pyplot as plt\n",
        "import seaborn as sns\n",
        "\n",
        "plt.figure(figsize=(10, 6))\n",
        "adwaredf['Label'].value_counts().plot.pie(autopct='%1.1f%%', startangle=90)\n",
        "plt.title('Distribution of Adware Families')\n",
        "plt.show()\n",
        "print(adwaredf['Label'].value_counts())\n"
      ],
      "metadata": {
        "colab": {
          "base_uri": "https://localhost:8080/",
          "height": 734
        },
        "id": "TyZovihXnB4q",
        "outputId": "088a765d-1ea6-41a0-de15-03434ad1838b"
      },
      "execution_count": null,
      "outputs": [
        {
          "output_type": "display_data",
          "data": {
            "text/plain": [
              "<Figure size 1000x600 with 1 Axes>"
            ],
            "image/png": "[encoded data removed]"
          },
          "metadata": {}
        },
        {
          "output_type": "stream",
          "name": "stdout",
          "text": [
            "Label\n",
            "ADWARE_KOODOUS     3604\n",
            "ADWARE_FEIWO       3578\n",
            "ADWARE_GOOLIGAN    3475\n",
            "ADWARE_SHUANET     3050\n",
            "ADWARE_DOWGIN      2917\n",
            "ADWARE_EWIND       2888\n",
            "ADWARE_SELFMITE    2763\n",
            "ADWARE_MOBIDASH    2420\n",
            "ADWARE_KEMOGE      2367\n",
            "ADWARE_YOUMI       1970\n",
            "Name: count, dtype: int64\n"
          ]
        }
      ]
    },
    {
      "cell_type": "markdown",
      "source": [
        "**Excluding Rows and Encoding**"
      ],
      "metadata": {
        "id": "8hYTIu8vAoYK"
      }
    },
    {
      "cell_type": "code",
      "source": [
        "excluded_rows = adwaredf.groupby('Label').first().reset_index()\n",
        "\n",
        "# Exclude these rows from the original DataFrame\n",
        "adwaredf = adwaredf[~adwaredf.index.isin(excluded_rows.index)]\n",
        "\n",
        "# Save the excluded rows to a CSV file\n",
        "excluded_rows.to_csv('excluded_rows.csv', index=False)"
      ],
      "metadata": {
        "id": "YEYKIWbhOcEp"
      },
      "execution_count": null,
      "outputs": []
    },
    {
      "cell_type": "code",
      "source": [
        "# Save the 'Label' column\n",
        "label_column = adwaredf['Label']\n",
        "\n",
        "# Encoding\n",
        "label_encoder = LabelEncoder()\n",
        "for col in adwaredf.select_dtypes(include=['object']).columns:\n",
        "    adwaredf[col] = label_encoder.fit_transform(adwaredf[col])\n",
        "constant_columns = [col for col in adwaredf.columns if adwaredf[col].nunique() <= 1]\n",
        "print(\"Constant Columns:\", constant_columns)\n",
        "constant_rows = adwaredf[adwaredf.nunique(axis=1) <= 1].index\n",
        "print(\"Constant Rows:\", constant_rows)\n",
        "label_mapping = dict(zip(label_encoder.classes_, label_encoder.transform(label_encoder.classes_)))\n",
        "print(label_mapping)"
      ],
      "metadata": {
        "id": "WnAJncbR834w",
        "colab": {
          "base_uri": "https://localhost:8080/"
        },
        "outputId": "cf857805-c2a0-4b53-cc79-1f3edf8e96b8"
      },
      "execution_count": null,
      "outputs": [
        {
          "output_type": "stream",
          "name": "stdout",
          "text": [
            "Constant Columns: []\n",
            "Constant Rows: Index([], dtype='int64')\n",
            "{'ADWARE_DOWGIN': 0, 'ADWARE_EWIND': 1, 'ADWARE_FEIWO': 2, 'ADWARE_GOOLIGAN': 3, 'ADWARE_KEMOGE': 4, 'ADWARE_KOODOUS': 5, 'ADWARE_MOBIDASH': 6, 'ADWARE_SELFMITE': 7, 'ADWARE_SHUANET': 8, 'ADWARE_YOUMI': 9}\n"
          ]
        }
      ]
    },
    {
      "cell_type": "markdown",
      "source": [
        "**Normalization and Train-Test Split**\n",
        "The selected features are normalized using StandardScaler to ensure all features are on a similar scale, improving the performance of machine learning algorithms. The target variable (Label) is encoded again to align with model requirements. The dataset is split into training and testing subsets, maintaining stratification to preserve the proportion of classes across both sets. A 90-10 split ratio is used, emphasizing more data for training.\n",
        "\n",
        "Selection with Information Gain\n",
        "\n",
        "Data Preprocessing and Splitting"
      ],
      "metadata": {
        "id": "HqiUz2NkA0lb"
      }
    },
    {
      "cell_type": "code",
      "source": [
        "from sklearn.feature_selection import mutual_info_classif\n",
        "from sklearn.preprocessing import StandardScaler, LabelEncoder\n",
        "from sklearn.model_selection import train_test_split\n",
        "import pandas as pd\n",
        "import numpy as np\n",
        "\n",
        "features = adwaredf.drop(columns=['Label'])  # Drop 'Label' from features\n",
        "label_column = adwaredf['Label']\n",
        "\n",
        "# Function to compute Information Gain (IG) using mutual_info_classif\n",
        "def information_gain(feature, target):\n",
        "    # Reshape feature to 2D as mutual_info_classif expects this format\n",
        "    feature = feature.values.reshape(-1, 1)\n",
        "    return mutual_info_classif(feature, target, discrete_features=True)[0]\n",
        "\n",
        "# Compute IG for each feature\n",
        "metrics = {\n",
        "    'Feature': [],\n",
        "    'Information Gain': []\n",
        "}\n",
        "\n",
        "for feature in features.columns:\n",
        "    ig = information_gain(features[feature], label_column)\n",
        "    metrics['Feature'].append(feature)\n",
        "    metrics['Information Gain'].append(ig)\n",
        "\n",
        "# Create a DataFrame for ranking features\n",
        "metrics_df = pd.DataFrame(metrics).sort_values(by='Information Gain', ascending=False)\n",
        "\n",
        "# Select the top features based on Information Gain\n",
        "top_features = metrics_df.head(8)['Feature'].tolist()  # Top 8 features\n",
        "X_top_features = adwaredf[top_features]\n",
        "\n",
        "# Print the metrics DataFrame and selected features\n",
        "print(\"Feature Metrics:\")\n",
        "print(metrics_df)\n",
        "print(\"Selected Top Features:\", X_top_features.columns.tolist())\n",
        "\n",
        "# Normalize the selected features\n",
        "scaler = StandardScaler()\n",
        "X_normalized = scaler.fit_transform(X_top_features)\n",
        "\n",
        "# Encode the target variable\n",
        "label_encoder = LabelEncoder()\n",
        "y_encoded = label_encoder.fit_transform(label_column)\n",
        "\n",
        "# Split the normalized data into training and testing sets\n",
        "X_train, X_test, y_train, y_test = train_test_split(\n",
        "    X_normalized, y_encoded, test_size=0.1, random_state=42, stratify=y_encoded\n",
        ")\n",
        "\n",
        "print(\"Data split into training and testing sets.\")\n"
      ],
      "metadata": {
        "colab": {
          "base_uri": "https://localhost:8080/"
        },
        "id": "yTVKpe2jAGE6",
        "outputId": "7aac218b-0668-4aba-bbc7-5c5d288ba2b6"
      },
      "execution_count": null,
      "outputs": [
        {
          "output_type": "stream",
          "name": "stderr",
          "text": [
            "/usr/local/lib/python3.10/dist-packages/sklearn/metrics/cluster/_supervised.py:66: UserWarning: Clustering metrics expects discrete values but received continuous values for label, and multiclass values for target\n",
            "  warnings.warn(msg, UserWarning)\n",
            "/usr/local/lib/python3.10/dist-packages/sklearn/metrics/cluster/_supervised.py:66: UserWarning: Clustering metrics expects discrete values but received continuous values for label, and multiclass values for target\n",
            "  warnings.warn(msg, UserWarning)\n",
            "/usr/local/lib/python3.10/dist-packages/sklearn/metrics/cluster/_supervised.py:66: UserWarning: Clustering metrics expects discrete values but received continuous values for label, and multiclass values for target\n",
            "  warnings.warn(msg, UserWarning)\n",
            "/usr/local/lib/python3.10/dist-packages/sklearn/metrics/cluster/_supervised.py:66: UserWarning: Clustering metrics expects discrete values but received continuous values for label, and multiclass values for target\n",
            "  warnings.warn(msg, UserWarning)\n",
            "/usr/local/lib/python3.10/dist-packages/sklearn/metrics/cluster/_supervised.py:66: UserWarning: Clustering metrics expects discrete values but received continuous values for label, and multiclass values for target\n",
            "  warnings.warn(msg, UserWarning)\n",
            "/usr/local/lib/python3.10/dist-packages/sklearn/metrics/cluster/_supervised.py:66: UserWarning: Clustering metrics expects discrete values but received continuous values for label, and multiclass values for target\n",
            "  warnings.warn(msg, UserWarning)\n",
            "/usr/local/lib/python3.10/dist-packages/sklearn/metrics/cluster/_supervised.py:66: UserWarning: Clustering metrics expects discrete values but received continuous values for label, and multiclass values for target\n",
            "  warnings.warn(msg, UserWarning)\n",
            "/usr/local/lib/python3.10/dist-packages/sklearn/metrics/cluster/_supervised.py:66: UserWarning: Clustering metrics expects discrete values but received continuous values for label, and multiclass values for target\n",
            "  warnings.warn(msg, UserWarning)\n",
            "/usr/local/lib/python3.10/dist-packages/sklearn/metrics/cluster/_supervised.py:66: UserWarning: Clustering metrics expects discrete values but received continuous values for label, and multiclass values for target\n",
            "  warnings.warn(msg, UserWarning)\n",
            "/usr/local/lib/python3.10/dist-packages/sklearn/metrics/cluster/_supervised.py:66: UserWarning: Clustering metrics expects discrete values but received continuous values for label, and multiclass values for target\n",
            "  warnings.warn(msg, UserWarning)\n",
            "/usr/local/lib/python3.10/dist-packages/sklearn/metrics/cluster/_supervised.py:66: UserWarning: Clustering metrics expects discrete values but received continuous values for label, and multiclass values for target\n",
            "  warnings.warn(msg, UserWarning)\n",
            "/usr/local/lib/python3.10/dist-packages/sklearn/metrics/cluster/_supervised.py:66: UserWarning: Clustering metrics expects discrete values but received continuous values for label, and multiclass values for target\n",
            "  warnings.warn(msg, UserWarning)\n",
            "/usr/local/lib/python3.10/dist-packages/sklearn/metrics/cluster/_supervised.py:66: UserWarning: Clustering metrics expects discrete values but received continuous values for label, and multiclass values for target\n",
            "  warnings.warn(msg, UserWarning)\n",
            "/usr/local/lib/python3.10/dist-packages/sklearn/metrics/cluster/_supervised.py:66: UserWarning: Clustering metrics expects discrete values but received continuous values for label, and multiclass values for target\n",
            "  warnings.warn(msg, UserWarning)\n",
            "/usr/local/lib/python3.10/dist-packages/sklearn/metrics/cluster/_supervised.py:66: UserWarning: Clustering metrics expects discrete values but received continuous values for label, and multiclass values for target\n",
            "  warnings.warn(msg, UserWarning)\n",
            "/usr/local/lib/python3.10/dist-packages/sklearn/metrics/cluster/_supervised.py:66: UserWarning: Clustering metrics expects discrete values but received continuous values for label, and multiclass values for target\n",
            "  warnings.warn(msg, UserWarning)\n",
            "/usr/local/lib/python3.10/dist-packages/sklearn/metrics/cluster/_supervised.py:66: UserWarning: Clustering metrics expects discrete values but received continuous values for label, and multiclass values for target\n",
            "  warnings.warn(msg, UserWarning)\n",
            "/usr/local/lib/python3.10/dist-packages/sklearn/metrics/cluster/_supervised.py:66: UserWarning: Clustering metrics expects discrete values but received continuous values for label, and multiclass values for target\n",
            "  warnings.warn(msg, UserWarning)\n",
            "/usr/local/lib/python3.10/dist-packages/sklearn/metrics/cluster/_supervised.py:66: UserWarning: Clustering metrics expects discrete values but received continuous values for label, and multiclass values for target\n",
            "  warnings.warn(msg, UserWarning)\n",
            "/usr/local/lib/python3.10/dist-packages/sklearn/metrics/cluster/_supervised.py:66: UserWarning: Clustering metrics expects discrete values but received continuous values for label, and multiclass values for target\n",
            "  warnings.warn(msg, UserWarning)\n",
            "/usr/local/lib/python3.10/dist-packages/sklearn/metrics/cluster/_supervised.py:66: UserWarning: Clustering metrics expects discrete values but received continuous values for label, and multiclass values for target\n",
            "  warnings.warn(msg, UserWarning)\n",
            "/usr/local/lib/python3.10/dist-packages/sklearn/metrics/cluster/_supervised.py:66: UserWarning: Clustering metrics expects discrete values but received continuous values for label, and multiclass values for target\n",
            "  warnings.warn(msg, UserWarning)\n",
            "/usr/local/lib/python3.10/dist-packages/sklearn/metrics/cluster/_supervised.py:66: UserWarning: Clustering metrics expects discrete values but received continuous values for label, and multiclass values for target\n",
            "  warnings.warn(msg, UserWarning)\n",
            "/usr/local/lib/python3.10/dist-packages/sklearn/metrics/cluster/_supervised.py:66: UserWarning: Clustering metrics expects discrete values but received continuous values for label, and multiclass values for target\n",
            "  warnings.warn(msg, UserWarning)\n",
            "/usr/local/lib/python3.10/dist-packages/sklearn/metrics/cluster/_supervised.py:66: UserWarning: Clustering metrics expects discrete values but received continuous values for label, and multiclass values for target\n",
            "  warnings.warn(msg, UserWarning)\n",
            "/usr/local/lib/python3.10/dist-packages/sklearn/metrics/cluster/_supervised.py:66: UserWarning: Clustering metrics expects discrete values but received continuous values for label, and multiclass values for target\n",
            "  warnings.warn(msg, UserWarning)\n",
            "/usr/local/lib/python3.10/dist-packages/sklearn/metrics/cluster/_supervised.py:66: UserWarning: Clustering metrics expects discrete values but received continuous values for label, and multiclass values for target\n",
            "  warnings.warn(msg, UserWarning)\n",
            "/usr/local/lib/python3.10/dist-packages/sklearn/metrics/cluster/_supervised.py:66: UserWarning: Clustering metrics expects discrete values but received continuous values for label, and multiclass values for target\n",
            "  warnings.warn(msg, UserWarning)\n",
            "/usr/local/lib/python3.10/dist-packages/sklearn/metrics/cluster/_supervised.py:66: UserWarning: Clustering metrics expects discrete values but received continuous values for label, and multiclass values for target\n",
            "  warnings.warn(msg, UserWarning)\n"
          ]
        },
        {
          "output_type": "stream",
          "name": "stdout",
          "text": [
            "Feature Metrics:\n",
            "                        Feature  Information Gain\n",
            "0                       Flow ID          2.253156\n",
            "4                     Timestamp          2.252172\n",
            "25                Fwd Packets/s          2.152954\n",
            "15               Flow Packets/s          2.145942\n",
            "5                 Flow Duration          2.134282\n",
            "16                Flow IAT Mean          2.053129\n",
            "1                   Source Port          1.849569\n",
            "17                 Flow IAT Max          1.717558\n",
            "26                Bwd Packets/s          1.547072\n",
            "20                 Fwd IAT Mean          1.419689\n",
            "18                 Flow IAT Min          1.391248\n",
            "14                 Flow Bytes/s          1.353162\n",
            "19                Fwd IAT Total          1.263141\n",
            "21                  Fwd IAT Max          1.255806\n",
            "22                  Fwd IAT Min          0.963646\n",
            "28           Packet Length Mean          0.734581\n",
            "30       Packet Length Variance          0.732255\n",
            "29            Packet Length Std          0.732255\n",
            "32          Average Packet Size          0.728326\n",
            "34         Avg Bwd Segment Size          0.604649\n",
            "13       Bwd Packet Length Mean          0.604649\n",
            "11       Fwd Packet Length Mean          0.577377\n",
            "33         Avg Fwd Segment Size          0.577377\n",
            "9   Total Length of Bwd Packets          0.552805\n",
            "39            Subflow Bwd Bytes          0.552805\n",
            "8   Total Length of Fwd Packets          0.459443\n",
            "37            Subflow Fwd Bytes          0.459443\n",
            "41      Init_Win_bytes_backward          0.311043\n",
            "2              Destination Port          0.308783\n",
            "10        Fwd Packet Length Max          0.302958\n",
            "40       Init_Win_bytes_forward          0.277559\n",
            "27            Max Packet Length          0.265950\n",
            "12        Bwd Packet Length Max          0.226518\n",
            "35          Fwd Header Length.1          0.157593\n",
            "23            Fwd Header Length          0.157593\n",
            "24            Bwd Header Length          0.157575\n",
            "38          Subflow Bwd Packets          0.069099\n",
            "7        Total Backward Packets          0.069099\n",
            "6             Total Fwd Packets          0.057346\n",
            "36          Subflow Fwd Packets          0.057346\n",
            "42         min_seg_size_forward          0.037232\n",
            "31                Down/Up Ratio          0.006714\n",
            "3                      Protocol          0.003716\n",
            "Selected Top Features: ['Flow ID', 'Timestamp', 'Fwd Packets/s', 'Flow Packets/s', 'Flow Duration', 'Flow IAT Mean', 'Source Port', 'Flow IAT Max']\n",
            "Data split into training and testing sets.\n"
          ]
        },
        {
          "output_type": "stream",
          "name": "stderr",
          "text": [
            "/usr/local/lib/python3.10/dist-packages/sklearn/metrics/cluster/_supervised.py:66: UserWarning: Clustering metrics expects discrete values but received continuous values for label, and multiclass values for target\n",
            "  warnings.warn(msg, UserWarning)\n",
            "/usr/local/lib/python3.10/dist-packages/sklearn/metrics/cluster/_supervised.py:66: UserWarning: Clustering metrics expects discrete values but received continuous values for label, and multiclass values for target\n",
            "  warnings.warn(msg, UserWarning)\n",
            "/usr/local/lib/python3.10/dist-packages/sklearn/metrics/cluster/_supervised.py:66: UserWarning: Clustering metrics expects discrete values but received continuous values for label, and multiclass values for target\n",
            "  warnings.warn(msg, UserWarning)\n",
            "/usr/local/lib/python3.10/dist-packages/sklearn/metrics/cluster/_supervised.py:66: UserWarning: Clustering metrics expects discrete values but received continuous values for label, and multiclass values for target\n",
            "  warnings.warn(msg, UserWarning)\n",
            "/usr/local/lib/python3.10/dist-packages/sklearn/metrics/cluster/_supervised.py:66: UserWarning: Clustering metrics expects discrete values but received continuous values for label, and multiclass values for target\n",
            "  warnings.warn(msg, UserWarning)\n",
            "/usr/local/lib/python3.10/dist-packages/sklearn/metrics/cluster/_supervised.py:66: UserWarning: Clustering metrics expects discrete values but received continuous values for label, and multiclass values for target\n",
            "  warnings.warn(msg, UserWarning)\n",
            "/usr/local/lib/python3.10/dist-packages/sklearn/metrics/cluster/_supervised.py:66: UserWarning: Clustering metrics expects discrete values but received continuous values for label, and multiclass values for target\n",
            "  warnings.warn(msg, UserWarning)\n",
            "/usr/local/lib/python3.10/dist-packages/sklearn/metrics/cluster/_supervised.py:66: UserWarning: Clustering metrics expects discrete values but received continuous values for label, and multiclass values for target\n",
            "  warnings.warn(msg, UserWarning)\n"
          ]
        }
      ]
    },
    {
      "cell_type": "markdown",
      "source": [
        "**Model Building and Evaluation**\n",
        "Three machine learning models are trained on the processed data:\n",
        "\n",
        "1. **XGBoost Classifier:**\n",
        "An advanced gradient-boosting algorithm is trained using the training data. The model is evaluated on the test data, generating predictions that are compared against actual labels. Metrics such as confusion matrix, accuracy, precision, and recall are computed to assess performance. A classification report provides detailed metrics for each class, and the trained model is saved for future use.\n",
        "\n",
        "2. **Logistic Regression:**\n",
        "A simpler linear model, logistic regression is trained with increased iteration limits to ensure convergence. Similar evaluation metrics are computed for comparison with other models. The trained model is also saved.\n",
        "\n",
        "3. **Random Forest Classifier:**\n",
        "A robust ensemble model using decision trees, the Random Forest classifier is trained and evaluated in the same manner as other models. Its results are compared with those of the XGBoost and logistic regression models.\n",
        "\n",
        "\n",
        "\n",
        "\n",
        "\n",
        "**Model Training and Evaluation (XGBoost)**"
      ],
      "metadata": {
        "id": "ZDn6CQphBFbC"
      }
    },
    {
      "cell_type": "code",
      "source": [
        "xgb_clf = XGBClassifier(random_state=42, use_label_encoder=False, eval_metric='logloss')\n",
        "xgb_clf.fit(X_train, y_train)\n",
        "\n",
        "print(\"XGBoost model training completed.\")"
      ],
      "metadata": {
        "colab": {
          "base_uri": "https://localhost:8080/"
        },
        "id": "1P-rzajz5XPt",
        "outputId": "7f619022-dd20-4656-fe77-cb586a4a749d"
      },
      "execution_count": null,
      "outputs": [
        {
          "output_type": "stream",
          "name": "stderr",
          "text": [
            "/usr/local/lib/python3.10/dist-packages/xgboost/core.py:158: UserWarning: [20:41:10] WARNING: /workspace/src/learner.cc:740: \n",
            "Parameters: { \"use_label_encoder\" } are not used.\n",
            "\n",
            "  warnings.warn(smsg, UserWarning)\n"
          ]
        },
        {
          "output_type": "stream",
          "name": "stdout",
          "text": [
            "XGBoost model training completed.\n"
          ]
        }
      ]
    },
    {
      "cell_type": "code",
      "source": [
        "model_filename = 'model.joblib'\n",
        "joblib.dump(xgb_clf, model_filename)\n",
        "print(f\"Model saved to {model_filename}\")"
      ],
      "metadata": {
        "colab": {
          "base_uri": "https://localhost:8080/"
        },
        "id": "XsQoYRUozJF-",
        "outputId": "a2f07513-53d2-43de-fc58-21499425ad04"
      },
      "execution_count": null,
      "outputs": [
        {
          "output_type": "stream",
          "name": "stdout",
          "text": [
            "Model saved to model.joblib\n"
          ]
        }
      ]
    },
    {
      "cell_type": "code",
      "source": [
        "# Make predictions\n",
        "y_pred = xgb_clf.predict(X_test)\n",
        "\n",
        "# Compute and print confusion matrix directly (for multi-class)\n",
        "cm = confusion_matrix(y_test, y_pred)\n",
        "print(\"Confusion Matrix:\\n\", cm)\n",
        "\n",
        "# Compute additional metrics\n",
        "accuracy = accuracy_score(y_test, y_pred)\n",
        "# Specify 'average' for multiclass precision\n",
        "precision = precision_score(y_test, y_pred, average='weighted')  # or 'micro', 'macro'\n",
        "recall = recall_score(y_test, y_pred, average='weighted')  # or 'micro', 'macro'\n",
        "\n",
        "# Display the results\n",
        "print(f\"Accuracy: {accuracy:.2f}\")\n",
        "print(f\"Precision: {precision:.2f}\")\n",
        "print(f\"Recall: {recall:.2f}\")\n",
        "\n",
        "# full classification report\n",
        "classification_rep = classification_report(y_test, y_pred)\n",
        "print(\"\\nClassification Report:\\n\", classification_rep)"
      ],
      "metadata": {
        "colab": {
          "base_uri": "https://localhost:8080/"
        },
        "id": "KRKvJEEonbz_",
        "outputId": "49f5385e-0b29-4d7c-a01e-b6c77b082762"
      },
      "execution_count": null,
      "outputs": [
        {
          "output_type": "stream",
          "name": "stdout",
          "text": [
            "Confusion Matrix:\n",
            " [[290   0   0   0   0   0   0   1   0   0]\n",
            " [  0 288   0   0   0   0   1   0   0   0]\n",
            " [  0   0 352   0   6   0   0   0   0   0]\n",
            " [  0   0   0 348   0   0   0   0   0   0]\n",
            " [  0   0  13   0 215   0   9   0   0   0]\n",
            " [  0   0   0   0   0 360   0   0   0   0]\n",
            " [  0   1   1   0   5   0 235   0   0   0]\n",
            " [  0   0   0   0   0   0   0 276   0   0]\n",
            " [  0   0   0   0   0   0   2   0 303   0]\n",
            " [  0   0   0   0   0   0   0   0   0 197]]\n",
            "Accuracy: 0.99\n",
            "Precision: 0.99\n",
            "Recall: 0.99\n",
            "\n",
            "Classification Report:\n",
            "               precision    recall  f1-score   support\n",
            "\n",
            "           0       1.00      1.00      1.00       291\n",
            "           1       1.00      1.00      1.00       289\n",
            "           2       0.96      0.98      0.97       358\n",
            "           3       1.00      1.00      1.00       348\n",
            "           4       0.95      0.91      0.93       237\n",
            "           5       1.00      1.00      1.00       360\n",
            "           6       0.95      0.97      0.96       242\n",
            "           7       1.00      1.00      1.00       276\n",
            "           8       1.00      0.99      1.00       305\n",
            "           9       1.00      1.00      1.00       197\n",
            "\n",
            "    accuracy                           0.99      2903\n",
            "   macro avg       0.99      0.98      0.99      2903\n",
            "weighted avg       0.99      0.99      0.99      2903\n",
            "\n"
          ]
        }
      ]
    },
    {
      "cell_type": "markdown",
      "source": [
        "**Logistic Regression Training and Evaluation**"
      ],
      "metadata": {
        "id": "TUH81TUeBSMT"
      }
    },
    {
      "cell_type": "code",
      "source": [
        "from sklearn.linear_model import LogisticRegression\n",
        "\n",
        "logreg_clf = LogisticRegression(random_state=42, max_iter=1000) # Increased max_iter\n",
        "logreg_clf.fit(X_train, y_train)\n",
        "\n",
        "print(\"Logistic Regression model training completed.\")\n",
        "\n",
        "# ... rest of your code for predictions and evaluation ...\n",
        "# Make predictions\n",
        "y_pred = logreg_clf.predict(X_test)\n",
        "\n",
        "# Compute and print confusion matrix directly (for multi-class)\n",
        "cm = confusion_matrix(y_test, y_pred)\n",
        "print(\"Confusion Matrix:\\n\", cm)\n",
        "\n",
        "# Compute additional metrics\n",
        "accuracy = accuracy_score(y_test, y_pred)\n",
        "# Specify 'average' for multiclass precision\n",
        "precision = precision_score(y_test, y_pred, average='weighted')  # or 'micro', 'macro'\n",
        "recall = recall_score(y_test, y_pred, average='weighted')  # or 'micro', 'macro'\n",
        "\n",
        "# Display the results\n",
        "print(f\"Accuracy: {accuracy:.2f}\")\n",
        "print(f\"Precision: {precision:.2f}\")\n",
        "print(f\"Recall: {recall:.2f}\")\n",
        "\n",
        "# full classification report\n",
        "classification_rep = classification_report(y_test, y_pred)\n",
        "print(\"\\nClassification Report:\\n\", classification_rep)\n",
        "\n",
        "model_filename = 'logreg_model.joblib'\n",
        "joblib.dump(logreg_clf, model_filename)\n",
        "print(f\"Model saved to {model_filename}\")"
      ],
      "metadata": {
        "colab": {
          "base_uri": "https://localhost:8080/"
        },
        "id": "VqFrGIwFFJQJ",
        "outputId": "db8c7543-cc9b-4ca3-8e0d-4c6f30d105f3"
      },
      "execution_count": null,
      "outputs": [
        {
          "output_type": "stream",
          "name": "stdout",
          "text": [
            "Logistic Regression model training completed.\n",
            "Confusion Matrix:\n",
            " [[ 34   0   0   0   0 233   2   2  20   0]\n",
            " [  0 289   0   0   0   0   0   0   0   0]\n",
            " [  1   0 254   0 101   0   0   2   0   0]\n",
            " [  0   0   0 341   0   5   0   0   0   2]\n",
            " [  0   1 116   0 119   0   0   1   0   0]\n",
            " [ 45   0   1  72   3 101   0  75  63   0]\n",
            " [  2  15  16   0  21 127   0   0  61   0]\n",
            " [ 56   0   0   0   0  29   0 191   0   0]\n",
            " [  4   0   0   0   0 108   0   0 193   0]\n",
            " [  0   0   0   5   0   0   0   0   0 192]]\n",
            "Accuracy: 0.59\n",
            "Precision: 0.55\n",
            "Recall: 0.59\n",
            "\n",
            "Classification Report:\n",
            "               precision    recall  f1-score   support\n",
            "\n",
            "           0       0.24      0.12      0.16       291\n",
            "           1       0.95      1.00      0.97       289\n",
            "           2       0.66      0.71      0.68       358\n",
            "           3       0.82      0.98      0.89       348\n",
            "           4       0.49      0.50      0.49       237\n",
            "           5       0.17      0.28      0.21       360\n",
            "           6       0.00      0.00      0.00       242\n",
            "           7       0.70      0.69      0.70       276\n",
            "           8       0.57      0.63      0.60       305\n",
            "           9       0.99      0.97      0.98       197\n",
            "\n",
            "    accuracy                           0.59      2903\n",
            "   macro avg       0.56      0.59      0.57      2903\n",
            "weighted avg       0.55      0.59      0.57      2903\n",
            "\n",
            "Model saved to logreg_model.joblib\n"
          ]
        }
      ]
    },
    {
      "cell_type": "markdown",
      "source": [
        "**Random Forest Training and Evaluation**"
      ],
      "metadata": {
        "id": "GX0zU48nBeoC"
      }
    },
    {
      "cell_type": "code",
      "source": [
        "from sklearn.ensemble import RandomForestClassifier\n",
        "\n",
        "# ... (Your existing code up to the point where you define X_train, y_train) ...\n",
        "\n",
        "rf_clf = RandomForestClassifier(random_state=42)\n",
        "rf_clf.fit(X_train, y_train)\n",
        "\n",
        "print(\"Random Forest model training completed.\")\n",
        "\n",
        "\n",
        "\n",
        "y_pred = rf_clf.predict(X_test)\n",
        "\n",
        "cm = confusion_matrix(y_test, y_pred)\n",
        "print(\"Confusion Matrix:\\n\", cm)\n",
        "\n",
        "# Compute additional metrics\n",
        "accuracy = accuracy_score(y_test, y_pred)\n",
        "# Specify 'average' for multiclass precision\n",
        "precision = precision_score(y_test, y_pred, average='weighted')  # or 'micro', 'macro'\n",
        "recall = recall_score(y_test, y_pred, average='weighted')  # or 'micro', 'macro'\n",
        "\n",
        "# Display the results\n",
        "print(f\"Accuracy: {accuracy:.2f}\")\n",
        "print(f\"Precision: {precision:.2f}\")\n",
        "print(f\"Recall: {recall:.2f}\")\n",
        "\n",
        "# full classification report\n",
        "classification_rep = classification_report(y_test, y_pred)\n",
        "print(\"\\nClassification Report:\\n\", classification_rep)\n",
        "model_filename = 'rf_model.joblib'\n",
        "joblib.dump(rf_clf, model_filename)\n",
        "print(f\"Model saved to {model_filename}\")"
      ],
      "metadata": {
        "colab": {
          "base_uri": "https://localhost:8080/"
        },
        "id": "dZrg_i7JFVdg",
        "outputId": "fcfa4023-d0c3-4a85-adcb-67042b902d45"
      },
      "execution_count": null,
      "outputs": [
        {
          "output_type": "stream",
          "name": "stdout",
          "text": [
            "Random Forest model training completed.\n",
            "Confusion Matrix:\n",
            " [[291   0   0   0   0   0   0   0   0   0]\n",
            " [  0 289   0   0   0   0   0   0   0   0]\n",
            " [  0   0 345   0  13   0   0   0   0   0]\n",
            " [  0   0   0 348   0   0   0   0   0   0]\n",
            " [  0   0  26   0 206   0   5   0   0   0]\n",
            " [  1   0   0   0   0 357   0   2   0   0]\n",
            " [  2   0   1   0   5   2 232   0   0   0]\n",
            " [  1   0   0   0   0   0   0 275   0   0]\n",
            " [  0   0   0   0   0   0   1   0 304   0]\n",
            " [  0   0   0   0   0   0   0   0   0 197]]\n",
            "Accuracy: 0.98\n",
            "Precision: 0.98\n",
            "Recall: 0.98\n",
            "\n",
            "Classification Report:\n",
            "               precision    recall  f1-score   support\n",
            "\n",
            "           0       0.99      1.00      0.99       291\n",
            "           1       1.00      1.00      1.00       289\n",
            "           2       0.93      0.96      0.95       358\n",
            "           3       1.00      1.00      1.00       348\n",
            "           4       0.92      0.87      0.89       237\n",
            "           5       0.99      0.99      0.99       360\n",
            "           6       0.97      0.96      0.97       242\n",
            "           7       0.99      1.00      0.99       276\n",
            "           8       1.00      1.00      1.00       305\n",
            "           9       1.00      1.00      1.00       197\n",
            "\n",
            "    accuracy                           0.98      2903\n",
            "   macro avg       0.98      0.98      0.98      2903\n",
            "weighted avg       0.98      0.98      0.98      2903\n",
            "\n",
            "Model saved to rf_model.joblib\n"
          ]
        }
      ]
    }
  ]
}